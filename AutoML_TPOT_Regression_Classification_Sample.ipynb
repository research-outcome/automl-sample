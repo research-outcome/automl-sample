{
  "cells": [
    {
      "cell_type": "markdown",
      "metadata": {
        "id": "c51d5d55"
      },
      "source": [
        "## TPOT AutoML Sample Code"
      ],
      "id": "c51d5d55"
    },
    {
      "cell_type": "code",
      "execution_count": 1,
      "metadata": {
        "id": "h1zRtqTnyGRH"
      },
      "outputs": [],
      "source": [
        "import pandas as pd\n",
        "import numpy as np\n",
        "from sklearn import metrics\n",
        "import matplotlib.pyplot as plt\n",
        "import seaborn as sns\n",
        "from sklearn.model_selection import train_test_split\n",
        "%matplotlib inline"
      ],
      "id": "h1zRtqTnyGRH"
    },
    {
      "cell_type": "code",
      "execution_count": 2,
      "metadata": {
        "colab": {
          "base_uri": "https://localhost:8080/"
        },
        "id": "6856457f",
        "outputId": "8d7c6437-4520-4da4-c126-c708ac4c887e"
      },
      "outputs": [
        {
          "output_type": "stream",
          "name": "stdout",
          "text": [
            "Looking in indexes: https://pypi.org/simple, https://us-python.pkg.dev/colab-wheels/public/simple/\n",
            "Requirement already satisfied: tpot in /usr/local/lib/python3.10/dist-packages (0.12.0)\n",
            "Requirement already satisfied: numpy>=1.16.3 in /usr/local/lib/python3.10/dist-packages (from tpot) (1.22.4)\n",
            "Requirement already satisfied: scipy>=1.3.1 in /usr/local/lib/python3.10/dist-packages (from tpot) (1.10.1)\n",
            "Requirement already satisfied: scikit-learn>=0.22.0 in /usr/local/lib/python3.10/dist-packages (from tpot) (1.2.2)\n",
            "Requirement already satisfied: deap>=1.2 in /usr/local/lib/python3.10/dist-packages (from tpot) (1.3.3)\n",
            "Requirement already satisfied: update-checker>=0.16 in /usr/local/lib/python3.10/dist-packages (from tpot) (0.18.0)\n",
            "Requirement already satisfied: tqdm>=4.36.1 in /usr/local/lib/python3.10/dist-packages (from tpot) (4.65.0)\n",
            "Requirement already satisfied: stopit>=1.1.1 in /usr/local/lib/python3.10/dist-packages (from tpot) (1.1.2)\n",
            "Requirement already satisfied: pandas>=0.24.2 in /usr/local/lib/python3.10/dist-packages (from tpot) (1.5.3)\n",
            "Requirement already satisfied: joblib>=0.13.2 in /usr/local/lib/python3.10/dist-packages (from tpot) (1.2.0)\n",
            "Requirement already satisfied: xgboost>=1.1.0 in /usr/local/lib/python3.10/dist-packages (from tpot) (1.7.5)\n",
            "Requirement already satisfied: python-dateutil>=2.8.1 in /usr/local/lib/python3.10/dist-packages (from pandas>=0.24.2->tpot) (2.8.2)\n",
            "Requirement already satisfied: pytz>=2020.1 in /usr/local/lib/python3.10/dist-packages (from pandas>=0.24.2->tpot) (2022.7.1)\n",
            "Requirement already satisfied: threadpoolctl>=2.0.0 in /usr/local/lib/python3.10/dist-packages (from scikit-learn>=0.22.0->tpot) (3.1.0)\n",
            "Requirement already satisfied: requests>=2.3.0 in /usr/local/lib/python3.10/dist-packages (from update-checker>=0.16->tpot) (2.27.1)\n",
            "Requirement already satisfied: six>=1.5 in /usr/local/lib/python3.10/dist-packages (from python-dateutil>=2.8.1->pandas>=0.24.2->tpot) (1.16.0)\n",
            "Requirement already satisfied: urllib3<1.27,>=1.21.1 in /usr/local/lib/python3.10/dist-packages (from requests>=2.3.0->update-checker>=0.16->tpot) (1.26.15)\n",
            "Requirement already satisfied: certifi>=2017.4.17 in /usr/local/lib/python3.10/dist-packages (from requests>=2.3.0->update-checker>=0.16->tpot) (2022.12.7)\n",
            "Requirement already satisfied: charset-normalizer~=2.0.0 in /usr/local/lib/python3.10/dist-packages (from requests>=2.3.0->update-checker>=0.16->tpot) (2.0.12)\n",
            "Requirement already satisfied: idna<4,>=2.5 in /usr/local/lib/python3.10/dist-packages (from requests>=2.3.0->update-checker>=0.16->tpot) (3.4)\n"
          ]
        }
      ],
      "source": [
        "!pip install tpot"
      ],
      "id": "6856457f"
    },
    {
      "cell_type": "markdown",
      "metadata": {
        "id": "95ukVSVlXhzo"
      },
      "source": [
        "## Classification"
      ],
      "id": "95ukVSVlXhzo"
    },
    {
      "cell_type": "markdown",
      "metadata": {
        "id": "9bf9dd24"
      },
      "source": [
        "#### Load Data\n",
        "TPOT will not work with the raw titanic csv file it requires the dataset to be processed. Due to this requirement I have used the processed titanic dataset instead of the unprocessed one."
      ],
      "id": "9bf9dd24"
    },
    {
      "cell_type": "code",
      "execution_count": 3,
      "metadata": {
        "id": "623fe594"
      },
      "outputs": [],
      "source": [
        "# TPOT does not work with the raw titanic csv file \n",
        "# So, we use titanic_processed.csv data\n",
        "titanic = pd.read_csv('titanic_processed.csv')"
      ],
      "id": "623fe594"
    },
    {
      "cell_type": "code",
      "execution_count": 4,
      "metadata": {
        "id": "51e22feb"
      },
      "outputs": [],
      "source": [
        "titanic_train_nolabel = titanic.drop('Survived',axis=1)\n",
        "titanic_train_label = titanic['Survived']"
      ],
      "id": "51e22feb"
    },
    {
      "cell_type": "markdown",
      "metadata": {
        "id": "0ade6e3f"
      },
      "source": [
        "#### Split the data into training and test sets"
      ],
      "id": "0ade6e3f"
    },
    {
      "cell_type": "code",
      "execution_count": 5,
      "metadata": {
        "id": "c15ade1e"
      },
      "outputs": [],
      "source": [
        "from sklearn.model_selection import train_test_split\n",
        "X_train, X_test, y_train, y_test = train_test_split(titanic_train_nolabel,titanic_train_label,test_size=0.2, random_state=42)"
      ],
      "id": "c15ade1e"
    },
    {
      "cell_type": "code",
      "execution_count": 6,
      "metadata": {
        "id": "2e05a7b8"
      },
      "outputs": [],
      "source": [
        "from tpot import TPOTClassifier\n",
        "tpot = TPOTClassifier(verbosity=2,random_state=66, max_time_mins=10)\n",
        "\n",
        "#the higher the number for generations and population_size, the more potent TPOT can be.\n",
        "#tpot_titanic =  TPOTClassifier(generations = 100, \n",
        "#                           population_size = 100,\n",
        "#                           verbosity = 2, \n",
        "#                           scoring=\"accuracy\",\n",
        "#                           max_time_mins = 30, \n",
        "#                           random_state = 42,\n",
        "#                           n_jobs=-1)"
      ],
      "id": "2e05a7b8"
    },
    {
      "cell_type": "markdown",
      "metadata": {
        "id": "5507f209"
      },
      "source": [
        "#### Training"
      ],
      "id": "5507f209"
    },
    {
      "cell_type": "code",
      "execution_count": null,
      "metadata": {
        "colab": {
          "background_save": true,
          "base_uri": "https://localhost:8080/",
          "height": 146,
          "referenced_widgets": [
            "8449d096732844ed9d58b9ad92b3b7f6",
            "6ac011a0be5f47078179d440573bed05",
            "d3180af446b34dddaa733ab3f6395f8b",
            "08c89d54a0464a73992f6df81b2b7a06",
            "efee06b07dc1402286eb25d7aab20170",
            "393d0c63d3114e1b9f097c108385309b",
            "4c00b387e67d4e6dba710f0f17502929",
            "4289fe2f99f34c2282205e1c373d608d",
            "f7bd350bfce24933b8da7f009766e9ad",
            "5cba912ac61944c3a004582ff2074ca0",
            "55d204e4edaf4110ae1965d5583692fb"
          ]
        },
        "id": "e35ca864",
        "outputId": "b764cfb9-1078-43e4-ba0f-0f68f500f8be"
      },
      "outputs": [
        {
          "output_type": "display_data",
          "data": {
            "text/plain": [
              "Optimization Progress:   0%|          | 0/100 [00:00<?, ?pipeline/s]"
            ],
            "application/vnd.jupyter.widget-view+json": {
              "version_major": 2,
              "version_minor": 0,
              "model_id": "8449d096732844ed9d58b9ad92b3b7f6"
            }
          },
          "metadata": {}
        },
        {
          "output_type": "stream",
          "name": "stdout",
          "text": [
            "\n",
            "Generation 1 - Current best internal CV score: 0.8244361272530286\n",
            "\n",
            "Generation 2 - Current best internal CV score: 0.8272333300502315\n"
          ]
        }
      ],
      "source": [
        "tpot.fit(X_train, y_train)"
      ],
      "id": "e35ca864"
    },
    {
      "cell_type": "markdown",
      "metadata": {
        "id": "8a7862be"
      },
      "source": [
        "#### Evaluating"
      ],
      "id": "8a7862be"
    },
    {
      "cell_type": "code",
      "execution_count": null,
      "metadata": {
        "id": "ab238313"
      },
      "outputs": [],
      "source": [
        "testsc=  {tpot.score(X_test, y_test)}\n",
        "print ('Test '+ str(testsc))\n",
        "trainsc=  {tpot.score(X_train, y_train)}\n",
        "print ('Train '+ str(trainsc))"
      ],
      "id": "ab238313"
    },
    {
      "cell_type": "markdown",
      "metadata": {
        "id": "7daece44"
      },
      "source": [
        "#### Exporting the model"
      ],
      "id": "7daece44"
    },
    {
      "cell_type": "code",
      "execution_count": null,
      "metadata": {
        "id": "972c5f8a"
      },
      "outputs": [],
      "source": [
        "tpot.export('tpot_exported_pipeline.py')"
      ],
      "id": "972c5f8a"
    },
    {
      "cell_type": "markdown",
      "metadata": {
        "id": "23cf8e1a"
      },
      "source": [
        "## Regression\n",
        "\n"
      ],
      "id": "23cf8e1a"
    },
    {
      "cell_type": "markdown",
      "metadata": {
        "id": "oes4bUwvXrIg"
      },
      "source": [
        "#### Load Data"
      ],
      "id": "oes4bUwvXrIg"
    },
    {
      "cell_type": "code",
      "execution_count": null,
      "metadata": {
        "id": "bee60554"
      },
      "outputs": [],
      "source": [
        "cars = pd.read_csv('cars_processed.csv')\n",
        "cars= cars.dropna()"
      ],
      "id": "bee60554"
    },
    {
      "cell_type": "code",
      "execution_count": null,
      "metadata": {
        "id": "VcOjl3SgXzkD"
      },
      "outputs": [],
      "source": [
        "X = cars.drop(['price_usd',],axis=1)\n",
        "y = cars['price_usd']"
      ],
      "id": "VcOjl3SgXzkD"
    },
    {
      "cell_type": "markdown",
      "metadata": {
        "id": "e07917d6"
      },
      "source": [
        "### Train"
      ],
      "id": "e07917d6"
    },
    {
      "cell_type": "code",
      "execution_count": null,
      "metadata": {
        "id": "6e98f3e8"
      },
      "outputs": [],
      "source": [
        "from tpot import TPOTRegressor\n",
        "\n",
        "tpot = TPOTRegressor(verbosity = 2, random_state=1502, max_time_mins=10)\n",
        "\n",
        "#the higher the number for generations and population_size, you can expect better results\n",
        "#tpot_cars =  TPOTRegressor(generations = 100, \n",
        "#                           population_size = 100,\n",
        "#                           verbosity = 2, \n",
        "#                           scoring=\"neg_mean_absolute_error\",\n",
        "#                           max_time_mins = 60, \n",
        "#                           random_state = 42,\n",
        "#                           n_jobs=-1)\n"
      ],
      "id": "6e98f3e8"
    },
    {
      "cell_type": "code",
      "execution_count": null,
      "metadata": {
        "id": "2d5c1fea"
      },
      "outputs": [],
      "source": [
        "from sklearn.model_selection import train_test_split\n",
        "X_train, X_test, y_train, y_test = train_test_split(X,y,test_size=0.2, random_state=42)\n",
        "tpot.fit(X_train, y_train)"
      ],
      "id": "2d5c1fea"
    },
    {
      "cell_type": "markdown",
      "metadata": {
        "id": "68dc0cad"
      },
      "source": [
        "#### Evaluating"
      ],
      "id": "68dc0cad"
    },
    {
      "cell_type": "code",
      "execution_count": null,
      "metadata": {
        "id": "e412c08f"
      },
      "outputs": [],
      "source": [
        "testsc=  {tpot.score(X_test, y_test)}\n",
        "print ('Test '+ str(testsc))\n",
        "trainsc=  {tpot.score(X_train, y_train)}\n",
        "print ('Test '+ str(trainsc))"
      ],
      "id": "e412c08f"
    },
    {
      "cell_type": "markdown",
      "metadata": {
        "id": "873b2117"
      },
      "source": [
        "#### Export the model"
      ],
      "id": "873b2117"
    },
    {
      "cell_type": "code",
      "execution_count": null,
      "metadata": {
        "id": "7a93a944"
      },
      "outputs": [],
      "source": [
        "tpot.export('tpot_exported_pipeline.py')"
      ],
      "id": "7a93a944"
    }
  ],
  "metadata": {
    "colab": {
      "provenance": []
    },
    "kernelspec": {
      "display_name": "Python 3 (ipykernel)",
      "language": "python",
      "name": "python3"
    },
    "language_info": {
      "codemirror_mode": {
        "name": "ipython",
        "version": 3
      },
      "file_extension": ".py",
      "mimetype": "text/x-python",
      "name": "python",
      "nbconvert_exporter": "python",
      "pygments_lexer": "ipython3",
      "version": "3.9.7"
    },
    "widgets": {
      "application/vnd.jupyter.widget-state+json": {
        "8449d096732844ed9d58b9ad92b3b7f6": {
          "model_module": "@jupyter-widgets/controls",
          "model_name": "HBoxModel",
          "model_module_version": "1.5.0",
          "state": {
            "_dom_classes": [],
            "_model_module": "@jupyter-widgets/controls",
            "_model_module_version": "1.5.0",
            "_model_name": "HBoxModel",
            "_view_count": null,
            "_view_module": "@jupyter-widgets/controls",
            "_view_module_version": "1.5.0",
            "_view_name": "HBoxView",
            "box_style": "",
            "children": [
              "IPY_MODEL_6ac011a0be5f47078179d440573bed05",
              "IPY_MODEL_d3180af446b34dddaa733ab3f6395f8b",
              "IPY_MODEL_08c89d54a0464a73992f6df81b2b7a06"
            ],
            "layout": "IPY_MODEL_efee06b07dc1402286eb25d7aab20170"
          }
        },
        "6ac011a0be5f47078179d440573bed05": {
          "model_module": "@jupyter-widgets/controls",
          "model_name": "HTMLModel",
          "model_module_version": "1.5.0",
          "state": {
            "_dom_classes": [],
            "_model_module": "@jupyter-widgets/controls",
            "_model_module_version": "1.5.0",
            "_model_name": "HTMLModel",
            "_view_count": null,
            "_view_module": "@jupyter-widgets/controls",
            "_view_module_version": "1.5.0",
            "_view_name": "HTMLView",
            "description": "",
            "description_tooltip": null,
            "layout": "IPY_MODEL_393d0c63d3114e1b9f097c108385309b",
            "placeholder": "​",
            "style": "IPY_MODEL_4c00b387e67d4e6dba710f0f17502929",
            "value": "Optimization Progress:  92%"
          }
        },
        "d3180af446b34dddaa733ab3f6395f8b": {
          "model_module": "@jupyter-widgets/controls",
          "model_name": "FloatProgressModel",
          "model_module_version": "1.5.0",
          "state": {
            "_dom_classes": [],
            "_model_module": "@jupyter-widgets/controls",
            "_model_module_version": "1.5.0",
            "_model_name": "FloatProgressModel",
            "_view_count": null,
            "_view_module": "@jupyter-widgets/controls",
            "_view_module_version": "1.5.0",
            "_view_name": "ProgressView",
            "bar_style": "",
            "description": "",
            "description_tooltip": null,
            "layout": "IPY_MODEL_4289fe2f99f34c2282205e1c373d608d",
            "max": 100,
            "min": 0,
            "orientation": "horizontal",
            "style": "IPY_MODEL_f7bd350bfce24933b8da7f009766e9ad",
            "value": 100
          }
        },
        "08c89d54a0464a73992f6df81b2b7a06": {
          "model_module": "@jupyter-widgets/controls",
          "model_name": "HTMLModel",
          "model_module_version": "1.5.0",
          "state": {
            "_dom_classes": [],
            "_model_module": "@jupyter-widgets/controls",
            "_model_module_version": "1.5.0",
            "_model_name": "HTMLModel",
            "_view_count": null,
            "_view_module": "@jupyter-widgets/controls",
            "_view_module_version": "1.5.0",
            "_view_name": "HTMLView",
            "description": "",
            "description_tooltip": null,
            "layout": "IPY_MODEL_5cba912ac61944c3a004582ff2074ca0",
            "placeholder": "​",
            "style": "IPY_MODEL_55d204e4edaf4110ae1965d5583692fb",
            "value": " 367/400 [05:04&lt;00:39,  1.20s/pipeline]"
          }
        },
        "efee06b07dc1402286eb25d7aab20170": {
          "model_module": "@jupyter-widgets/base",
          "model_name": "LayoutModel",
          "model_module_version": "1.2.0",
          "state": {
            "_model_module": "@jupyter-widgets/base",
            "_model_module_version": "1.2.0",
            "_model_name": "LayoutModel",
            "_view_count": null,
            "_view_module": "@jupyter-widgets/base",
            "_view_module_version": "1.2.0",
            "_view_name": "LayoutView",
            "align_content": null,
            "align_items": null,
            "align_self": null,
            "border": null,
            "bottom": null,
            "display": null,
            "flex": null,
            "flex_flow": null,
            "grid_area": null,
            "grid_auto_columns": null,
            "grid_auto_flow": null,
            "grid_auto_rows": null,
            "grid_column": null,
            "grid_gap": null,
            "grid_row": null,
            "grid_template_areas": null,
            "grid_template_columns": null,
            "grid_template_rows": null,
            "height": null,
            "justify_content": null,
            "justify_items": null,
            "left": null,
            "margin": null,
            "max_height": null,
            "max_width": null,
            "min_height": null,
            "min_width": null,
            "object_fit": null,
            "object_position": null,
            "order": null,
            "overflow": null,
            "overflow_x": null,
            "overflow_y": null,
            "padding": null,
            "right": null,
            "top": null,
            "visibility": null,
            "width": null
          }
        },
        "393d0c63d3114e1b9f097c108385309b": {
          "model_module": "@jupyter-widgets/base",
          "model_name": "LayoutModel",
          "model_module_version": "1.2.0",
          "state": {
            "_model_module": "@jupyter-widgets/base",
            "_model_module_version": "1.2.0",
            "_model_name": "LayoutModel",
            "_view_count": null,
            "_view_module": "@jupyter-widgets/base",
            "_view_module_version": "1.2.0",
            "_view_name": "LayoutView",
            "align_content": null,
            "align_items": null,
            "align_self": null,
            "border": null,
            "bottom": null,
            "display": null,
            "flex": null,
            "flex_flow": null,
            "grid_area": null,
            "grid_auto_columns": null,
            "grid_auto_flow": null,
            "grid_auto_rows": null,
            "grid_column": null,
            "grid_gap": null,
            "grid_row": null,
            "grid_template_areas": null,
            "grid_template_columns": null,
            "grid_template_rows": null,
            "height": null,
            "justify_content": null,
            "justify_items": null,
            "left": null,
            "margin": null,
            "max_height": null,
            "max_width": null,
            "min_height": null,
            "min_width": null,
            "object_fit": null,
            "object_position": null,
            "order": null,
            "overflow": null,
            "overflow_x": null,
            "overflow_y": null,
            "padding": null,
            "right": null,
            "top": null,
            "visibility": null,
            "width": null
          }
        },
        "4c00b387e67d4e6dba710f0f17502929": {
          "model_module": "@jupyter-widgets/controls",
          "model_name": "DescriptionStyleModel",
          "model_module_version": "1.5.0",
          "state": {
            "_model_module": "@jupyter-widgets/controls",
            "_model_module_version": "1.5.0",
            "_model_name": "DescriptionStyleModel",
            "_view_count": null,
            "_view_module": "@jupyter-widgets/base",
            "_view_module_version": "1.2.0",
            "_view_name": "StyleView",
            "description_width": ""
          }
        },
        "4289fe2f99f34c2282205e1c373d608d": {
          "model_module": "@jupyter-widgets/base",
          "model_name": "LayoutModel",
          "model_module_version": "1.2.0",
          "state": {
            "_model_module": "@jupyter-widgets/base",
            "_model_module_version": "1.2.0",
            "_model_name": "LayoutModel",
            "_view_count": null,
            "_view_module": "@jupyter-widgets/base",
            "_view_module_version": "1.2.0",
            "_view_name": "LayoutView",
            "align_content": null,
            "align_items": null,
            "align_self": null,
            "border": null,
            "bottom": null,
            "display": null,
            "flex": null,
            "flex_flow": null,
            "grid_area": null,
            "grid_auto_columns": null,
            "grid_auto_flow": null,
            "grid_auto_rows": null,
            "grid_column": null,
            "grid_gap": null,
            "grid_row": null,
            "grid_template_areas": null,
            "grid_template_columns": null,
            "grid_template_rows": null,
            "height": null,
            "justify_content": null,
            "justify_items": null,
            "left": null,
            "margin": null,
            "max_height": null,
            "max_width": null,
            "min_height": null,
            "min_width": null,
            "object_fit": null,
            "object_position": null,
            "order": null,
            "overflow": null,
            "overflow_x": null,
            "overflow_y": null,
            "padding": null,
            "right": null,
            "top": null,
            "visibility": null,
            "width": null
          }
        },
        "f7bd350bfce24933b8da7f009766e9ad": {
          "model_module": "@jupyter-widgets/controls",
          "model_name": "ProgressStyleModel",
          "model_module_version": "1.5.0",
          "state": {
            "_model_module": "@jupyter-widgets/controls",
            "_model_module_version": "1.5.0",
            "_model_name": "ProgressStyleModel",
            "_view_count": null,
            "_view_module": "@jupyter-widgets/base",
            "_view_module_version": "1.2.0",
            "_view_name": "StyleView",
            "bar_color": null,
            "description_width": ""
          }
        },
        "5cba912ac61944c3a004582ff2074ca0": {
          "model_module": "@jupyter-widgets/base",
          "model_name": "LayoutModel",
          "model_module_version": "1.2.0",
          "state": {
            "_model_module": "@jupyter-widgets/base",
            "_model_module_version": "1.2.0",
            "_model_name": "LayoutModel",
            "_view_count": null,
            "_view_module": "@jupyter-widgets/base",
            "_view_module_version": "1.2.0",
            "_view_name": "LayoutView",
            "align_content": null,
            "align_items": null,
            "align_self": null,
            "border": null,
            "bottom": null,
            "display": null,
            "flex": null,
            "flex_flow": null,
            "grid_area": null,
            "grid_auto_columns": null,
            "grid_auto_flow": null,
            "grid_auto_rows": null,
            "grid_column": null,
            "grid_gap": null,
            "grid_row": null,
            "grid_template_areas": null,
            "grid_template_columns": null,
            "grid_template_rows": null,
            "height": null,
            "justify_content": null,
            "justify_items": null,
            "left": null,
            "margin": null,
            "max_height": null,
            "max_width": null,
            "min_height": null,
            "min_width": null,
            "object_fit": null,
            "object_position": null,
            "order": null,
            "overflow": null,
            "overflow_x": null,
            "overflow_y": null,
            "padding": null,
            "right": null,
            "top": null,
            "visibility": null,
            "width": null
          }
        },
        "55d204e4edaf4110ae1965d5583692fb": {
          "model_module": "@jupyter-widgets/controls",
          "model_name": "DescriptionStyleModel",
          "model_module_version": "1.5.0",
          "state": {
            "_model_module": "@jupyter-widgets/controls",
            "_model_module_version": "1.5.0",
            "_model_name": "DescriptionStyleModel",
            "_view_count": null,
            "_view_module": "@jupyter-widgets/base",
            "_view_module_version": "1.2.0",
            "_view_name": "StyleView",
            "description_width": ""
          }
        }
      }
    }
  },
  "nbformat": 4,
  "nbformat_minor": 5
}